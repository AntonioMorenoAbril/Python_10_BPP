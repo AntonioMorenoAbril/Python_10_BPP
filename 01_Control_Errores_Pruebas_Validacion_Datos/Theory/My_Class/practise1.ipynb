{
 "cells": [
  {
   "cell_type": "code",
   "execution_count": 6,
   "metadata": {},
   "outputs": [
    {
     "name": "stdout",
     "output_type": "stream",
     "text": [
      "Se ejecuta si no ocurre ningún error\n",
      "Se ejecuta siempre\n"
     ]
    }
   ],
   "source": [
    "#TRY and EXCEPT: Capturar excepciones\n",
    "\n",
    "try:\n",
    "    # 1/0\n",
    "    2 + \"a\"\n",
    "    2 + 1\n",
    "except ZeroDivisionError as e:\n",
    "    print(\"No posible:\", e)\n",
    "except TypeError as e:\n",
    "    print(\"No posible\", e)\n",
    "except Exception as e:\n",
    "    print(\"No posible\", e)\n",
    "else:\n",
    "    print(\"Se ejecuta si no ocurre ningún error\")\n",
    "\n",
    "finally:\n",
    "    print(\"Se ejecuta siempre\")"
   ]
  },
  {
   "cell_type": "code",
   "execution_count": 10,
   "metadata": {},
   "outputs": [
    {
     "ename": "SyntaxError",
     "evalue": "invalid syntax (2529397355.py, line 9)",
     "output_type": "error",
     "traceback": [
      "\u001b[1;36m  Cell \u001b[1;32mIn[10], line 9\u001b[1;36m\u001b[0m\n\u001b[1;33m    finally:\u001b[0m\n\u001b[1;37m    ^\u001b[0m\n\u001b[1;31mSyntaxError\u001b[0m\u001b[1;31m:\u001b[0m invalid syntax\n"
     ]
    }
   ],
   "source": [
    "# RAISE: Crear nuestras propias excepciones\n",
    "\n",
    "edad = 16\n",
    "\n",
    "if 14 < edad < 17:\n",
    "    raise Exception (\"Fallo en el número, es un 15 o un 16\")\n",
    "\n",
    "else: \n",
    "    print(\"Todo bien\")\n",
    "\n",
    "print(\"Fin\")\n",
    "\n",
    "# En este caso no se imprimrá el texto \"fin\"\n",
    "        "
   ]
  },
  {
   "cell_type": "code",
   "execution_count": 29,
   "metadata": {},
   "outputs": [
    {
     "name": "stdout",
     "output_type": "stream",
     "text": [
      "Hay otro fallo Fallo en el número, es un 15 o un 16\n",
      "Fin\n"
     ]
    }
   ],
   "source": [
    "edad = 15\n",
    "\n",
    "try:\n",
    "    if (14 < edad < 17):\n",
    "        raise Exception (\"Fallo en el número, es un 15 o un 16\")\n",
    "    else: \n",
    "        print(\"OK\")\n",
    "    \n",
    "except Exception as e:\n",
    "    print(\"Hay otro fallo\", e)\n",
    "    \n",
    "else: \n",
    "    print(\"Todo bien\")\n",
    "\n",
    "finally:\n",
    "    print(\"Fin\")\n",
    "    \n",
    "# En este caso si se imprimirá el texto \"fin\"\n",
    "    "
   ]
  },
  {
   "cell_type": "code",
   "execution_count": null,
   "metadata": {},
   "outputs": [],
   "source": [
    "# ASSERT: es una síntesis de un if + un raise (por debajo están implementado un raise) \n",
    "\n",
    "# assert(1/0)\n",
    "\n",
    "assert 1/0, \"No es posible hacer esta operación\"\n"
   ]
  },
  {
   "cell_type": "code",
   "execution_count": 25,
   "metadata": {},
   "outputs": [
    {
     "ename": "AssertionError",
     "evalue": "Error",
     "output_type": "error",
     "traceback": [
      "\u001b[1;31m---------------------------------------------------------------------------\u001b[0m",
      "\u001b[1;31mAssertionError\u001b[0m                            Traceback (most recent call last)",
      "Cell \u001b[1;32mIn[25], line 4\u001b[0m\n\u001b[0;32m      1\u001b[0m \u001b[39mdef\u001b[39;00m \u001b[39mmedia\u001b[39m(lista):\n\u001b[0;32m      2\u001b[0m     \u001b[39mreturn\u001b[39;00m \u001b[39msum\u001b[39m(lista)\u001b[39m/\u001b[39m\u001b[39mlen\u001b[39m(lista)\n\u001b[1;32m----> 4\u001b[0m \u001b[39massert\u001b[39;00m media([\u001b[39m0\u001b[39m,\u001b[39m0\u001b[39m,\u001b[39m0\u001b[39m,\u001b[39m0\u001b[39m]) \u001b[39m==\u001b[39m \u001b[39m2\u001b[39m, \u001b[39m\"\u001b[39m\u001b[39mError\u001b[39m\u001b[39m\"\u001b[39m\n\u001b[0;32m      6\u001b[0m \u001b[39mprint\u001b[39m(\u001b[39m\"\u001b[39m\u001b[39mOk\u001b[39m\u001b[39m\"\u001b[39m)\n",
      "\u001b[1;31mAssertionError\u001b[0m: Error"
     ]
    }
   ],
   "source": [
    "def media(lista):\n",
    "    return sum(lista)/len(lista)\n",
    "\n",
    "assert (media([0,0,0,0]) == 2) \n",
    "\n",
    "print(\"Ok\")\n"
   ]
  },
  {
   "cell_type": "code",
   "execution_count": 50,
   "metadata": {},
   "outputs": [
    {
     "ename": "Exception",
     "evalue": "Error, Numero Negativo",
     "output_type": "error",
     "traceback": [
      "\u001b[1;31m---------------------------------------------------------------------------\u001b[0m",
      "\u001b[1;31mException\u001b[0m                                 Traceback (most recent call last)",
      "Cell \u001b[1;32mIn[50], line 11\u001b[0m\n\u001b[0;32m      8\u001b[0m     \u001b[39melse\u001b[39;00m:\n\u001b[0;32m      9\u001b[0m         \u001b[39mreturn\u001b[39;00m(a\u001b[39m/\u001b[39mb)   \n\u001b[1;32m---> 11\u001b[0m division(\u001b[39m-\u001b[39;49m\u001b[39m1\u001b[39;49m, \u001b[39m2\u001b[39;49m)\n",
      "Cell \u001b[1;32mIn[50], line 5\u001b[0m, in \u001b[0;36mdivision\u001b[1;34m(a, b)\u001b[0m\n\u001b[0;32m      1\u001b[0m \u001b[39mdef\u001b[39;00m \u001b[39mdivision\u001b[39m(a,b):\n\u001b[0;32m      2\u001b[0m     \n\u001b[0;32m      3\u001b[0m     \u001b[39m#Comprobar que no sea negativo ni 1 \u001b[39;00m\n\u001b[0;32m      4\u001b[0m     \u001b[39mif\u001b[39;00m b \u001b[39m<\u001b[39m\u001b[39m0\u001b[39m \u001b[39mor\u001b[39;00m a \u001b[39m<\u001b[39m\u001b[39m0\u001b[39m:\n\u001b[1;32m----> 5\u001b[0m         \u001b[39mraise\u001b[39;00m \u001b[39mException\u001b[39;00m(\u001b[39m\"\u001b[39m\u001b[39mError, Numero Negativo\u001b[39m\u001b[39m\"\u001b[39m)\n\u001b[0;32m      6\u001b[0m     \u001b[39mif\u001b[39;00m b \u001b[39m==\u001b[39m \u001b[39m1\u001b[39m \u001b[39mor\u001b[39;00m a \u001b[39m==\u001b[39m\u001b[39m1\u001b[39m:\n\u001b[0;32m      7\u001b[0m         \u001b[39mraise\u001b[39;00m \u001b[39mException\u001b[39;00m(\u001b[39m\"\u001b[39m\u001b[39mError, Numero igual a 1\u001b[39m\u001b[39m\"\u001b[39m)\n",
      "\u001b[1;31mException\u001b[0m: Error, Numero Negativo"
     ]
    }
   ],
   "source": [
    "def division(a,b):\n",
    "    \n",
    "    #Comprobar que no sea negativo ni 1 \n",
    "    if b <0 or a <0:\n",
    "        raise Exception(\"Error, Numero Negativo\")\n",
    "    if b == 1 or a ==1:\n",
    "        raise Exception(\"Error, Numero igual a 1\")\n",
    "    else:\n",
    "        return(a/b)   \n",
    "     \n",
    "division(-1, 2)"
   ]
  },
  {
   "cell_type": "code",
   "execution_count": 58,
   "metadata": {},
   "outputs": [
    {
     "data": {
      "text/plain": [
       "1.0"
      ]
     },
     "execution_count": 58,
     "metadata": {},
     "output_type": "execute_result"
    }
   ],
   "source": [
    "def division(a,b):\n",
    "    \n",
    "    #Comprobar que no sea negativo ni 1 \n",
    "    assert(b>0 or a>0)\n",
    "    assert(b != 1 or a !=1)\n",
    "    return(a/b)   \n",
    "     \n",
    "division(2, 2)"
   ]
  },
  {
   "cell_type": "code",
   "execution_count": null,
   "metadata": {},
   "outputs": [],
   "source": []
  }
 ],
 "metadata": {
  "kernelspec": {
   "display_name": "VENV",
   "language": "python",
   "name": "python3"
  },
  "language_info": {
   "codemirror_mode": {
    "name": "ipython",
    "version": 3
   },
   "file_extension": ".py",
   "mimetype": "text/x-python",
   "name": "python",
   "nbconvert_exporter": "python",
   "pygments_lexer": "ipython3",
   "version": "3.9.11"
  },
  "orig_nbformat": 4
 },
 "nbformat": 4,
 "nbformat_minor": 2
}
